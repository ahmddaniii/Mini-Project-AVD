{
  "nbformat": 4,
  "nbformat_minor": 0,
  "metadata": {
    "colab": {
      "provenance": []
    },
    "kernelspec": {
      "name": "python3",
      "display_name": "Python 3"
    },
    "language_info": {
      "name": "python"
    }
  },
  "cells": [
    {
      "cell_type": "markdown",
      "source": [
        "# **Business Understanding**"
      ],
      "metadata": {
        "id": "5-cUt1RBxayo"
      }
    },
    {
      "cell_type": "markdown",
      "source": [
        "## **Business Objective**"
      ],
      "metadata": {
        "id": "L4nfjuW6xhoP"
      }
    },
    {
      "cell_type": "markdown",
      "source": [
        "Tujuan utama proyek ini adalah untuk mengidentifikasi pola belanja pelanggan guna meningkatkan strategi pemasaran dan personalisasi penawaran untuk pelanggan. Dengan memahami preferensi dan perilaku belanja, kita dapat mengoptimalkan strategi promosi, meningkatkan kepuasan pelanggan, serta meningkatkan konversi penjualan."
      ],
      "metadata": {
        "id": "SCrR8By4xrwh"
      }
    },
    {
      "cell_type": "markdown",
      "source": [
        "## **Assess Situation**"
      ],
      "metadata": {
        "id": "BwiNEPdgyqu6"
      }
    },
    {
      "cell_type": "markdown",
      "source": [
        "Situasi bisnis yang mendasari analisis ini adalah tantangan yang dihadapi oleh perusahaan dalam memahami pola belanja pelanggan serta menentukan strategi promosi yang efektif untuk pelanggan. Tanpa wawasan berbasis data, perusahaan berisiko kehilangan pelanggan karena penawaran yang kurang relevan dan strategi pemasaran yang kurang optimal."
      ],
      "metadata": {
        "id": "YjGEXB-XyyBf"
      }
    },
    {
      "cell_type": "markdown",
      "source": [
        "## **Data Mining Goals**"
      ],
      "metadata": {
        "id": "EQWUXUD_zFvC"
      }
    },
    {
      "cell_type": "markdown",
      "source": [
        "Menganalisis pola belanja pelanggan berdasarkan variabel seperti kategori produk, metode pembayaran, lokasi pembelian, serta frekuensi dan nilai transaksi. Dengan analisis ini, pelanggan dapat dikelompokkan berdasarkan segmentasi tertentu untuk membantu dalam strategi pemasaran yang lebih tepat sasaran."
      ],
      "metadata": {
        "id": "NblNEOSzzXIN"
      }
    },
    {
      "cell_type": "markdown",
      "source": [
        "## **Project Plan**"
      ],
      "metadata": {
        "id": "6SKh_YS4zlk3"
      }
    },
    {
      "cell_type": "markdown",
      "source": [
        "Perencanaan proyek ini dimulai dengan Data Understanding untuk mengeksplorasi struktur data dan mengidentifikasi masalah. Kemudian, pada tahap Data Preparation, data dibersihkan dan diproses agar siap digunakan. Selanjutnya, Visualisasi dilakukan untuk mengidentifikasi pola belanja dan tren pelanggan. Hasilnya disajikan dalam Dashboard interaktif yang menampilkan insight utama. Terakhir, pada tahap Insight and Action, rekomendasi bisnis diberikan untuk meningkatkan strategi pemasaran dan personalisasi produk."
      ],
      "metadata": {
        "id": "Hn9b_pV_0Wcq"
      }
    }
  ]
}
